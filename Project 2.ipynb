{
 "cells": [
  {
   "cell_type": "code",
   "execution_count": 1,
   "id": "6c584c50-a348-4536-bdb5-bf9cad147a19",
   "metadata": {},
   "outputs": [],
   "source": [
    "import pandas as pd\n",
    "import numpy as np\n",
    "import seaborn as sns\n",
    "import matplotlib.pyplot as plt"
   ]
  },
  {
   "cell_type": "markdown",
   "id": "c5096a7b-15d7-42e2-9216-5b5b6111c95c",
   "metadata": {},
   "source": [
    "### Importing data set"
   ]
  },
  {
   "cell_type": "markdown",
   "id": "b54dedbf-1c17-4e48-9a96-4bb31cd8fb07",
   "metadata": {},
   "source": [
    "### Amyotrophic lateral sclerosis (ALS) data set"
   ]
  },
  {
   "cell_type": "code",
   "execution_count": 3,
   "id": "39604b8a-c0e0-4ab1-8501-53fec005b3ad",
   "metadata": {},
   "outputs": [],
   "source": [
    "df=pd.read_csv(r\"C:\\Users\\Amber singh\\Downloads\\Projects files 1-10\\project 1203\\Project 2/Minsk2020_ALS_dataset.csv\")"
   ]
  },
  {
   "cell_type": "code",
   "execution_count": 3,
   "id": "53246804-753a-473e-8ec8-0c886d6d532d",
   "metadata": {},
   "outputs": [
    {
     "data": {
      "text/html": [
       "<div>\n",
       "<style scoped>\n",
       "    .dataframe tbody tr th:only-of-type {\n",
       "        vertical-align: middle;\n",
       "    }\n",
       "\n",
       "    .dataframe tbody tr th {\n",
       "        vertical-align: top;\n",
       "    }\n",
       "\n",
       "    .dataframe thead th {\n",
       "        text-align: right;\n",
       "    }\n",
       "</style>\n",
       "<table border=\"1\" class=\"dataframe\">\n",
       "  <thead>\n",
       "    <tr style=\"text-align: right;\">\n",
       "      <th></th>\n",
       "      <th>ID</th>\n",
       "      <th>Sex</th>\n",
       "      <th>Age</th>\n",
       "      <th>J1_a</th>\n",
       "      <th>J3_a</th>\n",
       "      <th>J5_a</th>\n",
       "      <th>J55_a</th>\n",
       "      <th>S1_a</th>\n",
       "      <th>S3_a</th>\n",
       "      <th>S5_a</th>\n",
       "      <th>...</th>\n",
       "      <th>dCCi(7)</th>\n",
       "      <th>dCCi(8)</th>\n",
       "      <th>dCCi(9)</th>\n",
       "      <th>dCCi(10)</th>\n",
       "      <th>dCCi(11)</th>\n",
       "      <th>dCCi(12)</th>\n",
       "      <th>d_1</th>\n",
       "      <th>F2_i</th>\n",
       "      <th>F2_{conv}</th>\n",
       "      <th>Diagnosis (ALS)</th>\n",
       "    </tr>\n",
       "  </thead>\n",
       "  <tbody>\n",
       "    <tr>\n",
       "      <th>0</th>\n",
       "      <td>8</td>\n",
       "      <td>M</td>\n",
       "      <td>58</td>\n",
       "      <td>0.321817</td>\n",
       "      <td>0.141230</td>\n",
       "      <td>0.199128</td>\n",
       "      <td>0.923634</td>\n",
       "      <td>6.044559</td>\n",
       "      <td>3.196477</td>\n",
       "      <td>3.770575</td>\n",
       "      <td>...</td>\n",
       "      <td>-0.024467</td>\n",
       "      <td>-0.005300</td>\n",
       "      <td>0.051874</td>\n",
       "      <td>-0.037710</td>\n",
       "      <td>-0.026549</td>\n",
       "      <td>-0.021149</td>\n",
       "      <td>4.825476</td>\n",
       "      <td>2526.285657</td>\n",
       "      <td>833.498083</td>\n",
       "      <td>1</td>\n",
       "    </tr>\n",
       "    <tr>\n",
       "      <th>1</th>\n",
       "      <td>20</td>\n",
       "      <td>F</td>\n",
       "      <td>57</td>\n",
       "      <td>0.344026</td>\n",
       "      <td>0.177032</td>\n",
       "      <td>0.206458</td>\n",
       "      <td>0.827714</td>\n",
       "      <td>1.967728</td>\n",
       "      <td>0.856639</td>\n",
       "      <td>1.179851</td>\n",
       "      <td>...</td>\n",
       "      <td>0.002485</td>\n",
       "      <td>-0.004535</td>\n",
       "      <td>-0.000225</td>\n",
       "      <td>-0.006977</td>\n",
       "      <td>-0.012510</td>\n",
       "      <td>0.014773</td>\n",
       "      <td>5.729322</td>\n",
       "      <td>1985.712014</td>\n",
       "      <td>561.802625</td>\n",
       "      <td>1</td>\n",
       "    </tr>\n",
       "    <tr>\n",
       "      <th>2</th>\n",
       "      <td>21</td>\n",
       "      <td>F</td>\n",
       "      <td>58</td>\n",
       "      <td>0.264740</td>\n",
       "      <td>0.148228</td>\n",
       "      <td>0.177078</td>\n",
       "      <td>0.532566</td>\n",
       "      <td>1.850893</td>\n",
       "      <td>0.942743</td>\n",
       "      <td>1.071950</td>\n",
       "      <td>...</td>\n",
       "      <td>-0.013927</td>\n",
       "      <td>0.007908</td>\n",
       "      <td>0.007960</td>\n",
       "      <td>-0.009022</td>\n",
       "      <td>-0.012488</td>\n",
       "      <td>-0.015588</td>\n",
       "      <td>8.258488</td>\n",
       "      <td>2364.695972</td>\n",
       "      <td>796.723440</td>\n",
       "      <td>1</td>\n",
       "    </tr>\n",
       "    <tr>\n",
       "      <th>3</th>\n",
       "      <td>22</td>\n",
       "      <td>F</td>\n",
       "      <td>70</td>\n",
       "      <td>0.455793</td>\n",
       "      <td>0.174870</td>\n",
       "      <td>0.243660</td>\n",
       "      <td>0.962641</td>\n",
       "      <td>2.883768</td>\n",
       "      <td>1.284926</td>\n",
       "      <td>1.915058</td>\n",
       "      <td>...</td>\n",
       "      <td>-0.019285</td>\n",
       "      <td>-0.021768</td>\n",
       "      <td>0.020495</td>\n",
       "      <td>0.035976</td>\n",
       "      <td>-0.034648</td>\n",
       "      <td>0.008021</td>\n",
       "      <td>5.447137</td>\n",
       "      <td>1860.172768</td>\n",
       "      <td>359.409974</td>\n",
       "      <td>1</td>\n",
       "    </tr>\n",
       "    <tr>\n",
       "      <th>4</th>\n",
       "      <td>24</td>\n",
       "      <td>M</td>\n",
       "      <td>66</td>\n",
       "      <td>0.269335</td>\n",
       "      <td>0.143961</td>\n",
       "      <td>0.167465</td>\n",
       "      <td>0.547745</td>\n",
       "      <td>2.327924</td>\n",
       "      <td>1.164109</td>\n",
       "      <td>1.420891</td>\n",
       "      <td>...</td>\n",
       "      <td>-0.005743</td>\n",
       "      <td>0.004726</td>\n",
       "      <td>-0.015247</td>\n",
       "      <td>0.003900</td>\n",
       "      <td>-0.007686</td>\n",
       "      <td>-0.003784</td>\n",
       "      <td>8.562517</td>\n",
       "      <td>2051.627447</td>\n",
       "      <td>817.111847</td>\n",
       "      <td>1</td>\n",
       "    </tr>\n",
       "  </tbody>\n",
       "</table>\n",
       "<p>5 rows × 135 columns</p>\n",
       "</div>"
      ],
      "text/plain": [
       "   ID Sex  Age      J1_a      J3_a      J5_a     J55_a      S1_a      S3_a  \\\n",
       "0   8   M   58  0.321817  0.141230  0.199128  0.923634  6.044559  3.196477   \n",
       "1  20   F   57  0.344026  0.177032  0.206458  0.827714  1.967728  0.856639   \n",
       "2  21   F   58  0.264740  0.148228  0.177078  0.532566  1.850893  0.942743   \n",
       "3  22   F   70  0.455793  0.174870  0.243660  0.962641  2.883768  1.284926   \n",
       "4  24   M   66  0.269335  0.143961  0.167465  0.547745  2.327924  1.164109   \n",
       "\n",
       "       S5_a  ...   dCCi(7)   dCCi(8)   dCCi(9)  dCCi(10)  dCCi(11)  dCCi(12)  \\\n",
       "0  3.770575  ... -0.024467 -0.005300  0.051874 -0.037710 -0.026549 -0.021149   \n",
       "1  1.179851  ...  0.002485 -0.004535 -0.000225 -0.006977 -0.012510  0.014773   \n",
       "2  1.071950  ... -0.013927  0.007908  0.007960 -0.009022 -0.012488 -0.015588   \n",
       "3  1.915058  ... -0.019285 -0.021768  0.020495  0.035976 -0.034648  0.008021   \n",
       "4  1.420891  ... -0.005743  0.004726 -0.015247  0.003900 -0.007686 -0.003784   \n",
       "\n",
       "        d_1         F2_i   F2_{conv}  Diagnosis (ALS)  \n",
       "0  4.825476  2526.285657  833.498083                1  \n",
       "1  5.729322  1985.712014  561.802625                1  \n",
       "2  8.258488  2364.695972  796.723440                1  \n",
       "3  5.447137  1860.172768  359.409974                1  \n",
       "4  8.562517  2051.627447  817.111847                1  \n",
       "\n",
       "[5 rows x 135 columns]"
      ]
     },
     "execution_count": 3,
     "metadata": {},
     "output_type": "execute_result"
    }
   ],
   "source": [
    "df.head()"
   ]
  },
  {
   "cell_type": "markdown",
   "id": "32a53b1c-f6a9-498e-9821-268d171c8c3d",
   "metadata": {},
   "source": [
    "### Checking for null values"
   ]
  },
  {
   "cell_type": "code",
   "execution_count": 4,
   "id": "475fb968-5fc6-40d7-acd5-2cfe0eaa6cf7",
   "metadata": {},
   "outputs": [
    {
     "data": {
      "text/plain": [
       "ID                 0\n",
       "Sex                0\n",
       "Age                0\n",
       "J1_a               0\n",
       "J3_a               0\n",
       "                  ..\n",
       "dCCi(12)           0\n",
       "d_1                0\n",
       "F2_i               0\n",
       "F2_{conv}          0\n",
       "Diagnosis (ALS)    0\n",
       "Length: 135, dtype: int64"
      ]
     },
     "execution_count": 4,
     "metadata": {},
     "output_type": "execute_result"
    }
   ],
   "source": [
    "df.isna().sum()"
   ]
  },
  {
   "cell_type": "markdown",
   "id": "5a10e41e-e2df-44f6-a2ef-46388381cdc8",
   "metadata": {},
   "source": [
    "### Checking for data types"
   ]
  },
  {
   "cell_type": "code",
   "execution_count": 5,
   "id": "6a7e193a-c88a-4949-8bac-0f66dc33f79e",
   "metadata": {},
   "outputs": [
    {
     "name": "stdout",
     "output_type": "stream",
     "text": [
      "<class 'pandas.core.frame.DataFrame'>\n",
      "RangeIndex: 64 entries, 0 to 63\n",
      "Columns: 135 entries, ID to Diagnosis (ALS)\n",
      "dtypes: float64(131), int64(3), object(1)\n",
      "memory usage: 67.6+ KB\n"
     ]
    }
   ],
   "source": [
    "df.info()"
   ]
  },
  {
   "cell_type": "markdown",
   "id": "3e192f48-9c4f-4f23-9519-52d393c9a4ec",
   "metadata": {},
   "source": [
    "### for shape of data set"
   ]
  },
  {
   "cell_type": "code",
   "execution_count": 6,
   "id": "39da53a6-78bb-4c96-940f-8db85b00a7fa",
   "metadata": {},
   "outputs": [
    {
     "data": {
      "text/plain": [
       "(64, 135)"
      ]
     },
     "execution_count": 6,
     "metadata": {},
     "output_type": "execute_result"
    }
   ],
   "source": [
    "df.shape"
   ]
  },
  {
   "cell_type": "markdown",
   "id": "e2e10dfb-c8e2-4b23-91af-f052c5a833b5",
   "metadata": {},
   "source": [
    "### Descriptive analysis"
   ]
  },
  {
   "cell_type": "code",
   "execution_count": 7,
   "id": "7843d0d6-3eb6-45a9-841b-3f43ada67d38",
   "metadata": {},
   "outputs": [
    {
     "data": {
      "text/html": [
       "<div>\n",
       "<style scoped>\n",
       "    .dataframe tbody tr th:only-of-type {\n",
       "        vertical-align: middle;\n",
       "    }\n",
       "\n",
       "    .dataframe tbody tr th {\n",
       "        vertical-align: top;\n",
       "    }\n",
       "\n",
       "    .dataframe thead th {\n",
       "        text-align: right;\n",
       "    }\n",
       "</style>\n",
       "<table border=\"1\" class=\"dataframe\">\n",
       "  <thead>\n",
       "    <tr style=\"text-align: right;\">\n",
       "      <th></th>\n",
       "      <th>ID</th>\n",
       "      <th>Age</th>\n",
       "      <th>J1_a</th>\n",
       "      <th>J3_a</th>\n",
       "      <th>J5_a</th>\n",
       "      <th>J55_a</th>\n",
       "      <th>S1_a</th>\n",
       "      <th>S3_a</th>\n",
       "      <th>S5_a</th>\n",
       "      <th>S11_a</th>\n",
       "      <th>...</th>\n",
       "      <th>dCCi(7)</th>\n",
       "      <th>dCCi(8)</th>\n",
       "      <th>dCCi(9)</th>\n",
       "      <th>dCCi(10)</th>\n",
       "      <th>dCCi(11)</th>\n",
       "      <th>dCCi(12)</th>\n",
       "      <th>d_1</th>\n",
       "      <th>F2_i</th>\n",
       "      <th>F2_{conv}</th>\n",
       "      <th>Diagnosis (ALS)</th>\n",
       "    </tr>\n",
       "  </thead>\n",
       "  <tbody>\n",
       "    <tr>\n",
       "      <th>count</th>\n",
       "      <td>64.000000</td>\n",
       "      <td>64.000000</td>\n",
       "      <td>64.000000</td>\n",
       "      <td>64.000000</td>\n",
       "      <td>64.000000</td>\n",
       "      <td>64.000000</td>\n",
       "      <td>64.000000</td>\n",
       "      <td>64.000000</td>\n",
       "      <td>64.000000</td>\n",
       "      <td>64.000000</td>\n",
       "      <td>...</td>\n",
       "      <td>64.000000</td>\n",
       "      <td>64.000000</td>\n",
       "      <td>64.000000</td>\n",
       "      <td>64.000000</td>\n",
       "      <td>64.000000</td>\n",
       "      <td>64.000000</td>\n",
       "      <td>64.000000</td>\n",
       "      <td>64.000000</td>\n",
       "      <td>64.000000</td>\n",
       "      <td>64.000000</td>\n",
       "    </tr>\n",
       "    <tr>\n",
       "      <th>mean</th>\n",
       "      <td>67.875000</td>\n",
       "      <td>56.390625</td>\n",
       "      <td>0.658951</td>\n",
       "      <td>0.379242</td>\n",
       "      <td>0.395886</td>\n",
       "      <td>0.945496</td>\n",
       "      <td>5.072071</td>\n",
       "      <td>2.617924</td>\n",
       "      <td>3.078959</td>\n",
       "      <td>4.393513</td>\n",
       "      <td>...</td>\n",
       "      <td>0.003393</td>\n",
       "      <td>0.006224</td>\n",
       "      <td>-0.002889</td>\n",
       "      <td>-0.002152</td>\n",
       "      <td>-0.001969</td>\n",
       "      <td>0.001269</td>\n",
       "      <td>9.164473</td>\n",
       "      <td>2495.116475</td>\n",
       "      <td>1209.976405</td>\n",
       "      <td>0.484375</td>\n",
       "    </tr>\n",
       "    <tr>\n",
       "      <th>std</th>\n",
       "      <td>37.358198</td>\n",
       "      <td>10.203668</td>\n",
       "      <td>0.724002</td>\n",
       "      <td>0.435636</td>\n",
       "      <td>0.431926</td>\n",
       "      <td>0.791558</td>\n",
       "      <td>4.087221</td>\n",
       "      <td>2.289347</td>\n",
       "      <td>2.568471</td>\n",
       "      <td>3.327968</td>\n",
       "      <td>...</td>\n",
       "      <td>0.033268</td>\n",
       "      <td>0.024670</td>\n",
       "      <td>0.028315</td>\n",
       "      <td>0.019542</td>\n",
       "      <td>0.018012</td>\n",
       "      <td>0.020800</td>\n",
       "      <td>2.681449</td>\n",
       "      <td>617.755856</td>\n",
       "      <td>553.694046</td>\n",
       "      <td>0.503706</td>\n",
       "    </tr>\n",
       "    <tr>\n",
       "      <th>min</th>\n",
       "      <td>2.000000</td>\n",
       "      <td>34.000000</td>\n",
       "      <td>0.098881</td>\n",
       "      <td>0.065791</td>\n",
       "      <td>0.092655</td>\n",
       "      <td>0.285497</td>\n",
       "      <td>0.883453</td>\n",
       "      <td>0.449099</td>\n",
       "      <td>0.497111</td>\n",
       "      <td>0.804179</td>\n",
       "      <td>...</td>\n",
       "      <td>-0.052002</td>\n",
       "      <td>-0.069202</td>\n",
       "      <td>-0.120838</td>\n",
       "      <td>-0.065735</td>\n",
       "      <td>-0.042955</td>\n",
       "      <td>-0.083977</td>\n",
       "      <td>2.276702</td>\n",
       "      <td>444.730268</td>\n",
       "      <td>48.246203</td>\n",
       "      <td>0.000000</td>\n",
       "    </tr>\n",
       "    <tr>\n",
       "      <th>25%</th>\n",
       "      <td>31.750000</td>\n",
       "      <td>50.750000</td>\n",
       "      <td>0.325932</td>\n",
       "      <td>0.172422</td>\n",
       "      <td>0.198274</td>\n",
       "      <td>0.538387</td>\n",
       "      <td>2.641830</td>\n",
       "      <td>1.369446</td>\n",
       "      <td>1.508064</td>\n",
       "      <td>2.123761</td>\n",
       "      <td>...</td>\n",
       "      <td>-0.008234</td>\n",
       "      <td>-0.004222</td>\n",
       "      <td>-0.009654</td>\n",
       "      <td>-0.009853</td>\n",
       "      <td>-0.012674</td>\n",
       "      <td>-0.006534</td>\n",
       "      <td>7.604734</td>\n",
       "      <td>2051.627447</td>\n",
       "      <td>800.181156</td>\n",
       "      <td>0.000000</td>\n",
       "    </tr>\n",
       "    <tr>\n",
       "      <th>50%</th>\n",
       "      <td>66.500000</td>\n",
       "      <td>58.000000</td>\n",
       "      <td>0.458935</td>\n",
       "      <td>0.253976</td>\n",
       "      <td>0.293405</td>\n",
       "      <td>0.698183</td>\n",
       "      <td>4.198486</td>\n",
       "      <td>1.966045</td>\n",
       "      <td>2.653666</td>\n",
       "      <td>3.634994</td>\n",
       "      <td>...</td>\n",
       "      <td>0.000775</td>\n",
       "      <td>0.006272</td>\n",
       "      <td>-0.000937</td>\n",
       "      <td>-0.001614</td>\n",
       "      <td>-0.003921</td>\n",
       "      <td>0.000661</td>\n",
       "      <td>9.646564</td>\n",
       "      <td>2471.097222</td>\n",
       "      <td>1206.596083</td>\n",
       "      <td>0.000000</td>\n",
       "    </tr>\n",
       "    <tr>\n",
       "      <th>75%</th>\n",
       "      <td>98.250000</td>\n",
       "      <td>63.250000</td>\n",
       "      <td>0.772783</td>\n",
       "      <td>0.465699</td>\n",
       "      <td>0.476541</td>\n",
       "      <td>1.189025</td>\n",
       "      <td>6.259731</td>\n",
       "      <td>3.258184</td>\n",
       "      <td>3.801504</td>\n",
       "      <td>5.644808</td>\n",
       "      <td>...</td>\n",
       "      <td>0.011561</td>\n",
       "      <td>0.019092</td>\n",
       "      <td>0.006745</td>\n",
       "      <td>0.008349</td>\n",
       "      <td>0.005578</td>\n",
       "      <td>0.009515</td>\n",
       "      <td>10.757522</td>\n",
       "      <td>2938.236560</td>\n",
       "      <td>1551.677678</td>\n",
       "      <td>1.000000</td>\n",
       "    </tr>\n",
       "    <tr>\n",
       "      <th>max</th>\n",
       "      <td>131.000000</td>\n",
       "      <td>80.000000</td>\n",
       "      <td>5.391649</td>\n",
       "      <td>3.217293</td>\n",
       "      <td>3.321567</td>\n",
       "      <td>5.991336</td>\n",
       "      <td>29.441589</td>\n",
       "      <td>16.791944</td>\n",
       "      <td>18.368778</td>\n",
       "      <td>20.750202</td>\n",
       "      <td>...</td>\n",
       "      <td>0.220533</td>\n",
       "      <td>0.089766</td>\n",
       "      <td>0.080337</td>\n",
       "      <td>0.057303</td>\n",
       "      <td>0.061026</td>\n",
       "      <td>0.077897</td>\n",
       "      <td>15.420777</td>\n",
       "      <td>3599.554394</td>\n",
       "      <td>2441.219054</td>\n",
       "      <td>1.000000</td>\n",
       "    </tr>\n",
       "  </tbody>\n",
       "</table>\n",
       "<p>8 rows × 134 columns</p>\n",
       "</div>"
      ],
      "text/plain": [
       "               ID        Age       J1_a       J3_a       J5_a      J55_a  \\\n",
       "count   64.000000  64.000000  64.000000  64.000000  64.000000  64.000000   \n",
       "mean    67.875000  56.390625   0.658951   0.379242   0.395886   0.945496   \n",
       "std     37.358198  10.203668   0.724002   0.435636   0.431926   0.791558   \n",
       "min      2.000000  34.000000   0.098881   0.065791   0.092655   0.285497   \n",
       "25%     31.750000  50.750000   0.325932   0.172422   0.198274   0.538387   \n",
       "50%     66.500000  58.000000   0.458935   0.253976   0.293405   0.698183   \n",
       "75%     98.250000  63.250000   0.772783   0.465699   0.476541   1.189025   \n",
       "max    131.000000  80.000000   5.391649   3.217293   3.321567   5.991336   \n",
       "\n",
       "            S1_a       S3_a       S5_a      S11_a  ...    dCCi(7)    dCCi(8)  \\\n",
       "count  64.000000  64.000000  64.000000  64.000000  ...  64.000000  64.000000   \n",
       "mean    5.072071   2.617924   3.078959   4.393513  ...   0.003393   0.006224   \n",
       "std     4.087221   2.289347   2.568471   3.327968  ...   0.033268   0.024670   \n",
       "min     0.883453   0.449099   0.497111   0.804179  ...  -0.052002  -0.069202   \n",
       "25%     2.641830   1.369446   1.508064   2.123761  ...  -0.008234  -0.004222   \n",
       "50%     4.198486   1.966045   2.653666   3.634994  ...   0.000775   0.006272   \n",
       "75%     6.259731   3.258184   3.801504   5.644808  ...   0.011561   0.019092   \n",
       "max    29.441589  16.791944  18.368778  20.750202  ...   0.220533   0.089766   \n",
       "\n",
       "         dCCi(9)   dCCi(10)   dCCi(11)   dCCi(12)        d_1         F2_i  \\\n",
       "count  64.000000  64.000000  64.000000  64.000000  64.000000    64.000000   \n",
       "mean   -0.002889  -0.002152  -0.001969   0.001269   9.164473  2495.116475   \n",
       "std     0.028315   0.019542   0.018012   0.020800   2.681449   617.755856   \n",
       "min    -0.120838  -0.065735  -0.042955  -0.083977   2.276702   444.730268   \n",
       "25%    -0.009654  -0.009853  -0.012674  -0.006534   7.604734  2051.627447   \n",
       "50%    -0.000937  -0.001614  -0.003921   0.000661   9.646564  2471.097222   \n",
       "75%     0.006745   0.008349   0.005578   0.009515  10.757522  2938.236560   \n",
       "max     0.080337   0.057303   0.061026   0.077897  15.420777  3599.554394   \n",
       "\n",
       "         F2_{conv}  Diagnosis (ALS)  \n",
       "count    64.000000        64.000000  \n",
       "mean   1209.976405         0.484375  \n",
       "std     553.694046         0.503706  \n",
       "min      48.246203         0.000000  \n",
       "25%     800.181156         0.000000  \n",
       "50%    1206.596083         0.000000  \n",
       "75%    1551.677678         1.000000  \n",
       "max    2441.219054         1.000000  \n",
       "\n",
       "[8 rows x 134 columns]"
      ]
     },
     "execution_count": 7,
     "metadata": {},
     "output_type": "execute_result"
    }
   ],
   "source": [
    "df.describe()"
   ]
  },
  {
   "cell_type": "markdown",
   "id": "2280221a-18d9-4f72-8533-3e21988c0f75",
   "metadata": {},
   "source": [
    "##### In this data set their is no null values by seen count we can say"
   ]
  },
  {
   "cell_type": "markdown",
   "id": "ee0e317e-699b-49a5-a001-5ab939461417",
   "metadata": {},
   "source": [
    "## Exploratory data analysis"
   ]
  },
  {
   "cell_type": "markdown",
   "id": "a346c03e-9973-4c2a-b541-ec155d497592",
   "metadata": {},
   "source": [
    "##### note:from the above data set their is not much use to do exploratory data analysis for all columns because the columns names as codes to detect dieases "
   ]
  },
  {
   "cell_type": "markdown",
   "id": "d8785e69-42e2-48da-8b6a-ab7dca578efe",
   "metadata": {},
   "source": [
    "#### for ignoring warnings"
   ]
  },
  {
   "cell_type": "code",
   "execution_count": 8,
   "id": "d6a4f11d-b869-4325-97be-5d5afdaa8fdc",
   "metadata": {},
   "outputs": [],
   "source": [
    "import warnings\n",
    "warnings.filterwarnings('ignore')"
   ]
  },
  {
   "cell_type": "markdown",
   "id": "b209434e-60bf-449b-93a0-8fb49fc038dc",
   "metadata": {},
   "source": [
    "#### selecting columns for data exploratory"
   ]
  },
  {
   "cell_type": "code",
   "execution_count": 9,
   "id": "9ffdd784-a657-44c3-961d-964098653076",
   "metadata": {},
   "outputs": [],
   "source": [
    "df1=df[['Sex','Age','Diagnosis (ALS)']]"
   ]
  },
  {
   "cell_type": "code",
   "execution_count": 10,
   "id": "c48f3163-6ac6-4c33-9cc5-0751cc1e99f7",
   "metadata": {},
   "outputs": [
    {
     "data": {
      "text/html": [
       "<div>\n",
       "<style scoped>\n",
       "    .dataframe tbody tr th:only-of-type {\n",
       "        vertical-align: middle;\n",
       "    }\n",
       "\n",
       "    .dataframe tbody tr th {\n",
       "        vertical-align: top;\n",
       "    }\n",
       "\n",
       "    .dataframe thead th {\n",
       "        text-align: right;\n",
       "    }\n",
       "</style>\n",
       "<table border=\"1\" class=\"dataframe\">\n",
       "  <thead>\n",
       "    <tr style=\"text-align: right;\">\n",
       "      <th></th>\n",
       "      <th>Sex</th>\n",
       "      <th>Age</th>\n",
       "      <th>Diagnosis (ALS)</th>\n",
       "    </tr>\n",
       "  </thead>\n",
       "  <tbody>\n",
       "    <tr>\n",
       "      <th>0</th>\n",
       "      <td>M</td>\n",
       "      <td>58</td>\n",
       "      <td>1</td>\n",
       "    </tr>\n",
       "    <tr>\n",
       "      <th>1</th>\n",
       "      <td>F</td>\n",
       "      <td>57</td>\n",
       "      <td>1</td>\n",
       "    </tr>\n",
       "    <tr>\n",
       "      <th>2</th>\n",
       "      <td>F</td>\n",
       "      <td>58</td>\n",
       "      <td>1</td>\n",
       "    </tr>\n",
       "    <tr>\n",
       "      <th>3</th>\n",
       "      <td>F</td>\n",
       "      <td>70</td>\n",
       "      <td>1</td>\n",
       "    </tr>\n",
       "    <tr>\n",
       "      <th>4</th>\n",
       "      <td>M</td>\n",
       "      <td>66</td>\n",
       "      <td>1</td>\n",
       "    </tr>\n",
       "  </tbody>\n",
       "</table>\n",
       "</div>"
      ],
      "text/plain": [
       "  Sex  Age  Diagnosis (ALS)\n",
       "0   M   58                1\n",
       "1   F   57                1\n",
       "2   F   58                1\n",
       "3   F   70                1\n",
       "4   M   66                1"
      ]
     },
     "execution_count": 10,
     "metadata": {},
     "output_type": "execute_result"
    }
   ],
   "source": [
    "df1.head()"
   ]
  },
  {
   "cell_type": "code",
   "execution_count": 11,
   "id": "36471d58-1809-450c-af04-a44e7592376f",
   "metadata": {},
   "outputs": [
    {
     "data": {
      "text/plain": [
       "Text(0.5, 1.0, 'Hitsogram of Age')"
      ]
     },
     "execution_count": 11,
     "metadata": {},
     "output_type": "execute_result"
    },
    {
     "data": {
      "image/png": "[encoded data removed]",
      "text/plain": [
       "<Figure size 600x500 with 1 Axes>"
      ]
     },
     "metadata": {},
     "output_type": "display_data"
    }
   ],
   "source": [
    "plt.figure(figsize=(6,5))\n",
    "sns.histplot(df['Age'],kde=True)\n",
    "plt.title('Hitsogram of Age')"
   ]
  },
  {
   "cell_type": "markdown",
   "id": "7c60e53f-cddc-43b2-90ed-0b326c20c8c7",
   "metadata": {},
   "source": [
    "##### Observation:The more data concentrate at 60-70 range and the kde density is peak "
   ]
  },
  {
   "cell_type": "code",
   "execution_count": 12,
   "id": "1c9bade5-a527-4841-9bc6-feefed1054e0",
   "metadata": {},
   "outputs": [
    {
     "data": {
      "text/plain": [
       "Text(0.5, 1.0, 'Sex vs Diagnosis(ALS)')"
      ]
     },
     "execution_count": 12,
     "metadata": {},
     "output_type": "execute_result"
    },
    {
     "data": {
      "image/png": "[encoded data removed]",
      "text/plain": [
       "<Figure size 500x400 with 1 Axes>"
      ]
     },
     "metadata": {},
     "output_type": "display_data"
    }
   ],
   "source": [
    "plt.figure(figsize=(5,4))\n",
    "sns.barplot(data=df1,x='Sex',y='Diagnosis (ALS)',errorbar=None)\n",
    "plt.title('Sex vs Diagnosis(ALS)')\n"
   ]
  },
  {
   "cell_type": "markdown",
   "id": "309a77a7-1121-428b-b4e3-c0809ded029d",
   "metadata": {},
   "source": [
    "##### The above barplot there is not much different between sex with relation Diagnosis(ALS)"
   ]
  },
  {
   "cell_type": "code",
   "execution_count": 13,
   "id": "4afff1f3-5cf1-4f86-8260-2043b5655620",
   "metadata": {},
   "outputs": [
    {
     "data": {
      "image/png": "[encoded data removed]",
      "text/plain": [
       "<Figure size 500x400 with 1 Axes>"
      ]
     },
     "metadata": {},
     "output_type": "display_data"
    }
   ],
   "source": [
    "plt.figure(figsize=(5,4))\n",
    "ax=sns.countplot(data=df,x='Sex',palette='hot')\n",
    "plt.title('Counts of Sex')\n",
    "for i in ax.containers:\n",
    "    ax.bar_label(i)"
   ]
  },
  {
   "cell_type": "markdown",
   "id": "d0d88ed5-af30-4b6f-aaf7-d87b56843408",
   "metadata": {},
   "source": [
    "##### The above counts are  not much different between both sex ,the data is balanced data"
   ]
  },
  {
   "cell_type": "code",
   "execution_count": 14,
   "id": "0a68191a-08ad-42ee-89a6-9eb63f7ad322",
   "metadata": {},
   "outputs": [
    {
     "data": {
      "text/plain": [
       "Text(0.5, 1.0, 'Age')"
      ]
     },
     "execution_count": 14,
     "metadata": {},
     "output_type": "execute_result"
    },
    {
     "data": {
      "image/png": "[encoded data removed]",
      "text/plain": [
       "<Figure size 800x400 with 1 Axes>"
      ]
     },
     "metadata": {},
     "output_type": "display_data"
    }
   ],
   "source": [
    "plt.figure(figsize=(8,4))\n",
    "sns.boxplot(data=df,x='Age')\n",
    "plt.title('Age')"
   ]
  },
  {
   "cell_type": "markdown",
   "id": "12a5553c-999b-44b2-b7bc-ef47d0e8ccbf",
   "metadata": {},
   "source": [
    "###### In age their are no outliers are present"
   ]
  },
  {
   "cell_type": "code",
   "execution_count": 15,
   "id": "52385e2c-32d9-4b40-9de2-fc72530ab4b5",
   "metadata": {},
   "outputs": [
    {
     "data": {
      "text/plain": [
       "Text(0.5, 1.0, 'Counts of ages')"
      ]
     },
     "execution_count": 15,
     "metadata": {},
     "output_type": "execute_result"
    },
    {
     "data": {
      "image/png": "[encoded data removed]",
      "text/plain": [
       "<Figure size 1200x600 with 1 Axes>"
      ]
     },
     "metadata": {},
     "output_type": "display_data"
    }
   ],
   "source": [
    "plt.figure(figsize=(12,6))\n",
    "sns.countplot(data=df,x='Age')\n",
    "plt.title('Counts of ages')"
   ]
  },
  {
   "cell_type": "markdown",
   "id": "b8122d2a-f3d4-4d7e-9eeb-2640f5668d92",
   "metadata": {},
   "source": [
    "##### From a count plot for ages, and the highest count is observed at age 60."
   ]
  },
  {
   "cell_type": "code",
   "execution_count": 44,
   "id": "75c3e677-2d8b-4854-bf6f-e5852cb8bf94",
   "metadata": {},
   "outputs": [
    {
     "data": {
      "text/plain": [
       "Text(0.5, 1.0, 'Age vs Diagnosis(ALS)')"
      ]
     },
     "execution_count": 44,
     "metadata": {},
     "output_type": "execute_result"
    },
    {
     "data": {
      "image/png": "[encoded data removed]",
      "text/plain": [
       "<Figure size 800x500 with 1 Axes>"
      ]
     },
     "metadata": {},
     "output_type": "display_data"
    }
   ],
   "source": [
    "plt.figure(figsize=(8,5))\n",
    "sns.kdeplot(data=df,x='Age',hue='Diagnosis (ALS)',fill=True)\n",
    "plt.title('Age vs Diagnosis(ALS)')"
   ]
  },
  {
   "cell_type": "markdown",
   "id": "991252d9-1388-44c5-888d-e2389e41df54",
   "metadata": {},
   "source": [
    "##### Observation:From the above graph the target feature is some separation from other feature but it still overlap siginficant"
   ]
  },
  {
   "cell_type": "code",
   "execution_count": 49,
   "id": "3832e60c-58c0-48fa-ade3-a0a5924d65f7",
   "metadata": {},
   "outputs": [
    {
     "data": {
      "text/plain": [
       "<seaborn.axisgrid.PairGrid at 0x1879846ce30>"
      ]
     },
     "execution_count": 49,
     "metadata": {},
     "output_type": "execute_result"
    },
    {
     "data": {
      "image/png": "[encoded data removed]",
      "text/plain": [
       "<Figure size 500x500 with 6 Axes>"
      ]
     },
     "metadata": {},
     "output_type": "display_data"
    }
   ],
   "source": [
    "sns.pairplot(df1)"
   ]
  },
  {
   "cell_type": "markdown",
   "id": "ed4743df-f7e1-42b9-8fa0-a9d329020d2c",
   "metadata": {},
   "source": [
    "#### For replace "
   ]
  },
  {
   "cell_type": "code",
   "execution_count": 17,
   "id": "e8c266f1-d0f5-4047-9ae5-600030a9f2ab",
   "metadata": {},
   "outputs": [],
   "source": [
    "df['Sex'].replace({'M':1,'F':0},inplace=True)"
   ]
  },
  {
   "cell_type": "markdown",
   "id": "da903359-6b11-426f-ad9a-ef924fb56b89",
   "metadata": {},
   "source": [
    "## Machine learning model build using sickirt-learn liabaries"
   ]
  },
  {
   "cell_type": "code",
   "execution_count": 18,
   "id": "06ad7122-c5dd-404d-b916-a9bbd2a178e6",
   "metadata": {},
   "outputs": [],
   "source": [
    "from sklearn.metrics import accuracy_score,classification_report\n",
    "from sklearn.linear_model import LogisticRegression\n",
    "from sklearn.model_selection import train_test_split\n",
    "from sklearn.ensemble import RandomForestClassifier,AdaBoostClassifier,BaggingClassifier,GradientBoostingClassifier\n",
    "from sklearn.tree import DecisionTreeClassifier\n",
    "from sklearn.svm import SVC\n",
    "from sklearn.naive_bayes import GaussianNB\n",
    "from sklearn.neighbors import KNeighborsClassifier"
   ]
  },
  {
   "cell_type": "markdown",
   "id": "991db898-2440-4d07-99bc-09810b083c96",
   "metadata": {},
   "source": [
    "#### The target feature is Diagnosis(ALS) and remaining are independent features"
   ]
  },
  {
   "cell_type": "code",
   "execution_count": 19,
   "id": "350cb115-0de4-4844-9409-c6cc37f96f4f",
   "metadata": {},
   "outputs": [],
   "source": [
    "x=df.drop('Diagnosis (ALS)',axis=1)\n",
    "y=df['Diagnosis (ALS)']"
   ]
  },
  {
   "cell_type": "code",
   "execution_count": 20,
   "id": "380b72c0-8ca7-4332-b519-714910e0107f",
   "metadata": {},
   "outputs": [],
   "source": [
    "x_train,x_test,y_train,y_test=train_test_split(x,y,random_state=30,test_size=0.2)"
   ]
  },
  {
   "cell_type": "code",
   "execution_count": 21,
   "id": "ca4f2fa4-53c0-4149-a4d6-f93d632f2677",
   "metadata": {},
   "outputs": [],
   "source": [
    "models=[LogisticRegression(),RandomForestClassifier(),DecisionTreeClassifier(),SVC(probability=True),\n",
    "        BaggingClassifier(),AdaBoostClassifier(n_estimators=50),GradientBoostingClassifier(),GaussianNB(),KNeighborsClassifier(n_neighbors=5)]\n"
   ]
  },
  {
   "cell_type": "code",
   "execution_count": 22,
   "id": "287dfa07-227e-429d-976f-95be3ee60383",
   "metadata": {},
   "outputs": [
    {
     "name": "stdout",
     "output_type": "stream",
     "text": [
      "LogisticRegression()\n",
      "accuracy_score: 0.6153846153846154\n",
      "Classification report:               precision    recall  f1-score   support\n",
      "\n",
      "           0       0.80      0.50      0.62         8\n",
      "           1       0.50      0.80      0.62         5\n",
      "\n",
      "    accuracy                           0.62        13\n",
      "   macro avg       0.65      0.65      0.62        13\n",
      "weighted avg       0.68      0.62      0.62        13\n",
      "\n",
      "\n",
      "RandomForestClassifier()\n",
      "accuracy_score: 0.8461538461538461\n",
      "Classification report:               precision    recall  f1-score   support\n",
      "\n",
      "           0       0.88      0.88      0.88         8\n",
      "           1       0.80      0.80      0.80         5\n",
      "\n",
      "    accuracy                           0.85        13\n",
      "   macro avg       0.84      0.84      0.84        13\n",
      "weighted avg       0.85      0.85      0.85        13\n",
      "\n",
      "\n",
      "DecisionTreeClassifier()\n",
      "accuracy_score: 0.6923076923076923\n",
      "Classification report:               precision    recall  f1-score   support\n",
      "\n",
      "           0       0.83      0.62      0.71         8\n",
      "           1       0.57      0.80      0.67         5\n",
      "\n",
      "    accuracy                           0.69        13\n",
      "   macro avg       0.70      0.71      0.69        13\n",
      "weighted avg       0.73      0.69      0.70        13\n",
      "\n",
      "\n",
      "SVC(probability=True)\n",
      "accuracy_score: 0.6153846153846154\n",
      "Classification report:               precision    recall  f1-score   support\n",
      "\n",
      "           0       0.80      0.50      0.62         8\n",
      "           1       0.50      0.80      0.62         5\n",
      "\n",
      "    accuracy                           0.62        13\n",
      "   macro avg       0.65      0.65      0.62        13\n",
      "weighted avg       0.68      0.62      0.62        13\n",
      "\n",
      "\n",
      "BaggingClassifier()\n",
      "accuracy_score: 0.8461538461538461\n",
      "Classification report:               precision    recall  f1-score   support\n",
      "\n",
      "           0       0.88      0.88      0.88         8\n",
      "           1       0.80      0.80      0.80         5\n",
      "\n",
      "    accuracy                           0.85        13\n",
      "   macro avg       0.84      0.84      0.84        13\n",
      "weighted avg       0.85      0.85      0.85        13\n",
      "\n",
      "\n",
      "AdaBoostClassifier()\n",
      "accuracy_score: 0.7692307692307693\n",
      "Classification report:               precision    recall  f1-score   support\n",
      "\n",
      "           0       0.86      0.75      0.80         8\n",
      "           1       0.67      0.80      0.73         5\n",
      "\n",
      "    accuracy                           0.77        13\n",
      "   macro avg       0.76      0.78      0.76        13\n",
      "weighted avg       0.78      0.77      0.77        13\n",
      "\n",
      "\n",
      "GradientBoostingClassifier()\n",
      "accuracy_score: 0.8461538461538461\n",
      "Classification report:               precision    recall  f1-score   support\n",
      "\n",
      "           0       0.88      0.88      0.88         8\n",
      "           1       0.80      0.80      0.80         5\n",
      "\n",
      "    accuracy                           0.85        13\n",
      "   macro avg       0.84      0.84      0.84        13\n",
      "weighted avg       0.85      0.85      0.85        13\n",
      "\n",
      "\n",
      "GaussianNB()\n",
      "accuracy_score: 0.7692307692307693\n",
      "Classification report:               precision    recall  f1-score   support\n",
      "\n",
      "           0       0.86      0.75      0.80         8\n",
      "           1       0.67      0.80      0.73         5\n",
      "\n",
      "    accuracy                           0.77        13\n",
      "   macro avg       0.76      0.78      0.76        13\n",
      "weighted avg       0.78      0.77      0.77        13\n",
      "\n",
      "\n",
      "KNeighborsClassifier()\n",
      "accuracy_score: 0.5384615384615384\n",
      "Classification report:               precision    recall  f1-score   support\n",
      "\n",
      "           0       0.67      0.50      0.57         8\n",
      "           1       0.43      0.60      0.50         5\n",
      "\n",
      "    accuracy                           0.54        13\n",
      "   macro avg       0.55      0.55      0.54        13\n",
      "weighted avg       0.58      0.54      0.54        13\n",
      "\n",
      "\n"
     ]
    }
   ],
   "source": [
    "for i,models in enumerate(models):\n",
    "    models.fit(x_train,y_train)\n",
    "    pred=models.predict(x_test)\n",
    "    print(models)\n",
    "    print('accuracy_score:',accuracy_score(y_test,pred))\n",
    "    print('Classification report:',classification_report(y_test,pred))\n",
    "    print()"
   ]
  },
  {
   "cell_type": "markdown",
   "id": "1b08ea80-cb4b-4f1a-b4db-6c7d6180ff1a",
   "metadata": {},
   "source": [
    "##### Obesrvation:all models are perform well because of it is balanced data set and in this data no outliers are there,top four models are randomforest,adaboosting,decisiontree,gaussiannb "
   ]
  },
  {
   "cell_type": "markdown",
   "id": "5e40dc3f-2753-45b3-97ec-f319dd22d13c",
   "metadata": {},
   "source": [
    "#### Note: In this data set there are so many columns are present from these columns i selecting only top 8 best columns using kbest "
   ]
  },
  {
   "cell_type": "code",
   "execution_count": 23,
   "id": "06edcfc0-4be0-4792-85fe-ee1413c8be1f",
   "metadata": {},
   "outputs": [],
   "source": [
    "from sklearn.feature_selection import SelectKBest,f_classif,chi2"
   ]
  },
  {
   "cell_type": "code",
   "execution_count": 24,
   "id": "55968763-ba44-44ed-bedb-2ea79b009478",
   "metadata": {},
   "outputs": [],
   "source": [
    "kbest=SelectKBest(score_func=f_classif,k=8)"
   ]
  },
  {
   "cell_type": "code",
   "execution_count": 25,
   "id": "ab95d0e7-869c-4f66-b8d1-d6e19971fb1a",
   "metadata": {},
   "outputs": [],
   "source": [
    "k8best=kbest.fit_transform(x,y)"
   ]
  },
  {
   "cell_type": "code",
   "execution_count": 26,
   "id": "7c92a0c0-9a50-45d6-96f6-75a260aa37c2",
   "metadata": {},
   "outputs": [
    {
     "data": {
      "text/plain": [
       "array([6.30285575e+00, 1.51966036e+00, 4.81111518e+00, 3.72374464e+00,\n",
       "       2.80940566e+00, 3.90272142e+00, 9.29424862e+00, 2.77970662e+00,\n",
       "       2.01078408e+00, 3.04007079e+00, 4.53402558e+00, 2.83055323e+00,\n",
       "       1.78708514e-01, 8.44003082e+00, 1.31234403e+01, 1.34691845e+01,\n",
       "       5.06556737e+00, 7.26673419e+00, 2.37589532e+00, 1.41239019e-02,\n",
       "       6.77236381e-01, 1.76272828e-01, 8.74198430e-01, 1.35243407e+00,\n",
       "       3.32816856e+00, 7.10867752e+00, 7.82461970e+00, 2.33069569e+00,\n",
       "       2.94059917e+00, 8.33835113e-01, 5.35734923e+00, 1.22983870e+00,\n",
       "       4.30339574e+00, 7.71656069e+00, 4.65540447e+00, 5.47206862e+00,\n",
       "       1.12917647e+00, 1.79560374e-01, 3.09671496e+00, 1.05684127e-01,\n",
       "       2.29953043e+00, 1.05110077e+01, 6.42043481e+00, 1.97630163e+00,\n",
       "       1.87314320e+00, 2.35278161e-01, 1.11248250e-01, 1.98683660e+00,\n",
       "       6.26361322e+00, 1.21072262e+00, 3.34519979e+00, 3.32612120e-01,\n",
       "       2.59056141e+00, 4.13056071e+00, 2.17872151e-02, 9.89016079e-03,\n",
       "       2.84651771e-02, 1.31524937e+00, 2.49446319e+00, 3.05017065e+00,\n",
       "       6.99515361e-05, 9.78964413e-01, 3.49720955e-01, 2.17440296e+00,\n",
       "       1.66873074e-01, 6.16654676e-01, 1.15606486e+00, 3.62342157e-01,\n",
       "       6.45571084e-02, 7.82227429e-01, 4.07988165e+00, 3.85109457e+00,\n",
       "       3.01162320e+00, 3.97024944e+00, 6.62302552e+00, 4.34054776e+00,\n",
       "       1.95323489e+00, 1.99930902e+00, 2.23995943e+00, 8.70338731e+00,\n",
       "       9.58352694e+00, 1.77983577e+00, 5.37275723e+00, 1.11006484e+00,\n",
       "       2.57633485e+00, 2.04992838e+00, 4.36453825e+00, 4.96125484e+00,\n",
       "       5.55612730e-01, 7.11245184e-02, 1.86913341e-01, 2.21750071e-01,\n",
       "       5.26258017e+00, 7.70989834e-01, 1.48838814e-01, 1.67050669e-01,\n",
       "       5.48693896e+00, 4.33479004e+00, 7.53443314e+00, 8.50624257e+00,\n",
       "       4.15579605e+00, 3.10833329e+00, 8.33534614e-02, 3.16402718e+00,\n",
       "       3.68208991e-01, 5.33100220e-02, 2.17765765e-02, 1.31398139e-02,\n",
       "       1.54043674e+01, 5.21783333e+00, 1.11496792e+00, 3.87499223e-01,\n",
       "       9.87683989e+00, 4.63868919e+00, 4.99533015e+00, 1.65764791e+00,\n",
       "       1.78842543e-02, 3.11618711e+00, 4.69388698e-03, 7.55314785e-01,\n",
       "       4.11418269e-02, 2.40998460e+00, 4.71672103e+00, 3.72038084e+00,\n",
       "       7.11690869e+00, 1.08582864e+00, 4.40878776e+00, 3.70158009e+00,\n",
       "       2.16007263e+00, 3.28317149e-02, 3.66352847e+00, 1.63014436e+01,\n",
       "       6.24101762e+00, 1.11532339e+01])"
      ]
     },
     "execution_count": 26,
     "metadata": {},
     "output_type": "execute_result"
    }
   ],
   "source": [
    "kbest.scores_"
   ]
  },
  {
   "cell_type": "code",
   "execution_count": 27,
   "id": "7a2463f4-83df-43a9-bb57-501c0644d06a",
   "metadata": {},
   "outputs": [],
   "source": [
    "select_indices=kbest.get_support()"
   ]
  },
  {
   "cell_type": "code",
   "execution_count": 28,
   "id": "fefd36de-8f58-4c98-bf7d-71c076b81b09",
   "metadata": {},
   "outputs": [],
   "source": [
    "x_best=x.columns[kbest.get_support()]"
   ]
  },
  {
   "cell_type": "code",
   "execution_count": 29,
   "id": "48e800f5-0c8d-47da-b86a-dcb700501ee0",
   "metadata": {},
   "outputs": [
    {
     "data": {
      "text/plain": [
       "Index(['PPE_a', 'PVI_a', 'Ha(7)_{rel}', 'HNR_i', 'CCi(2)', 'CCi(6)', 'd_1',\n",
       "       'F2_{conv}'],\n",
       "      dtype='object')"
      ]
     },
     "execution_count": 29,
     "metadata": {},
     "output_type": "execute_result"
    }
   ],
   "source": [
    "x_best"
   ]
  },
  {
   "cell_type": "code",
   "execution_count": 30,
   "id": "e51412a9-1de3-4d1e-994f-cf6f8b0eede1",
   "metadata": {},
   "outputs": [],
   "source": [
    "x_select=pd.DataFrame(k8best,columns=x_best)"
   ]
  },
  {
   "cell_type": "code",
   "execution_count": 31,
   "id": "8b073c76-3f3d-439a-a907-224dedcf45f5",
   "metadata": {},
   "outputs": [
    {
     "data": {
      "text/plain": [
       "Index(['PPE_a', 'PVI_a', 'Ha(7)_{rel}', 'HNR_i', 'CCi(2)', 'CCi(6)', 'd_1',\n",
       "       'F2_{conv}'],\n",
       "      dtype='object')"
      ]
     },
     "execution_count": 31,
     "metadata": {},
     "output_type": "execute_result"
    }
   ],
   "source": [
    "x_select.columns"
   ]
  },
  {
   "cell_type": "markdown",
   "id": "57d5fa1a-0cd1-4071-a9b9-a9882391cf77",
   "metadata": {},
   "source": [
    "#### note:after applying kbest then i got this 8 best columns from the above data\n",
    "  "
   ]
  },
  {
   "cell_type": "markdown",
   "id": "7c1d4537-05b7-4712-b1e4-fb488c9e08a2",
   "metadata": {},
   "source": [
    "## Model build after selectkbest "
   ]
  },
  {
   "cell_type": "code",
   "execution_count": 32,
   "id": "6a0964b4-0053-416c-9582-d6a4f9183fc8",
   "metadata": {},
   "outputs": [],
   "source": [
    "x_train,x_test,y_train,y_test=train_test_split(x_select,y,test_size=0.2)"
   ]
  },
  {
   "cell_type": "code",
   "execution_count": 51,
   "id": "44889d20-4c94-4331-ac1b-af7173515f5e",
   "metadata": {},
   "outputs": [],
   "source": [
    "models=[LogisticRegression(),RandomForestClassifier(n_estimators=40),DecisionTreeClassifier(),SVC(probability=True),\n",
    "        BaggingClassifier(),AdaBoostClassifier(n_estimators=50),GradientBoostingClassifier(),GaussianNB(),KNeighborsClassifier(n_neighbors=5)]\n"
   ]
  },
  {
   "cell_type": "code",
   "execution_count": 34,
   "id": "7150c0a3-1a1b-481b-a56f-2752cb677c12",
   "metadata": {},
   "outputs": [
    {
     "name": "stdout",
     "output_type": "stream",
     "text": [
      "LogisticRegression()\n",
      "0.7692307692307693\n",
      "              precision    recall  f1-score   support\n",
      "\n",
      "           0       0.80      0.89      0.84         9\n",
      "           1       0.67      0.50      0.57         4\n",
      "\n",
      "    accuracy                           0.77        13\n",
      "   macro avg       0.73      0.69      0.71        13\n",
      "weighted avg       0.76      0.77      0.76        13\n",
      "\n",
      "\n",
      "RandomForestClassifier(n_estimators=40)\n",
      "0.6153846153846154\n",
      "              precision    recall  f1-score   support\n",
      "\n",
      "           0       0.75      0.67      0.71         9\n",
      "           1       0.40      0.50      0.44         4\n",
      "\n",
      "    accuracy                           0.62        13\n",
      "   macro avg       0.57      0.58      0.58        13\n",
      "weighted avg       0.64      0.62      0.63        13\n",
      "\n",
      "\n",
      "DecisionTreeClassifier()\n",
      "0.6923076923076923\n",
      "              precision    recall  f1-score   support\n",
      "\n",
      "           0       0.86      0.67      0.75         9\n",
      "           1       0.50      0.75      0.60         4\n",
      "\n",
      "    accuracy                           0.69        13\n",
      "   macro avg       0.68      0.71      0.68        13\n",
      "weighted avg       0.75      0.69      0.70        13\n",
      "\n",
      "\n",
      "SVC(probability=True)\n",
      "0.38461538461538464\n",
      "              precision    recall  f1-score   support\n",
      "\n",
      "           0       0.57      0.44      0.50         9\n",
      "           1       0.17      0.25      0.20         4\n",
      "\n",
      "    accuracy                           0.38        13\n",
      "   macro avg       0.37      0.35      0.35        13\n",
      "weighted avg       0.45      0.38      0.41        13\n",
      "\n",
      "\n",
      "BaggingClassifier()\n",
      "0.8461538461538461\n",
      "              precision    recall  f1-score   support\n",
      "\n",
      "           0       0.89      0.89      0.89         9\n",
      "           1       0.75      0.75      0.75         4\n",
      "\n",
      "    accuracy                           0.85        13\n",
      "   macro avg       0.82      0.82      0.82        13\n",
      "weighted avg       0.85      0.85      0.85        13\n",
      "\n",
      "\n",
      "AdaBoostClassifier()\n",
      "0.6153846153846154\n",
      "              precision    recall  f1-score   support\n",
      "\n",
      "           0       0.83      0.56      0.67         9\n",
      "           1       0.43      0.75      0.55         4\n",
      "\n",
      "    accuracy                           0.62        13\n",
      "   macro avg       0.63      0.65      0.61        13\n",
      "weighted avg       0.71      0.62      0.63        13\n",
      "\n",
      "\n",
      "GradientBoostingClassifier()\n",
      "0.6923076923076923\n",
      "              precision    recall  f1-score   support\n",
      "\n",
      "           0       0.86      0.67      0.75         9\n",
      "           1       0.50      0.75      0.60         4\n",
      "\n",
      "    accuracy                           0.69        13\n",
      "   macro avg       0.68      0.71      0.68        13\n",
      "weighted avg       0.75      0.69      0.70        13\n",
      "\n",
      "\n",
      "GaussianNB()\n",
      "0.7692307692307693\n",
      "              precision    recall  f1-score   support\n",
      "\n",
      "           0       0.88      0.78      0.82         9\n",
      "           1       0.60      0.75      0.67         4\n",
      "\n",
      "    accuracy                           0.77        13\n",
      "   macro avg       0.74      0.76      0.75        13\n",
      "weighted avg       0.79      0.77      0.78        13\n",
      "\n",
      "\n",
      "KNeighborsClassifier()\n",
      "0.46153846153846156\n",
      "              precision    recall  f1-score   support\n",
      "\n",
      "           0       0.62      0.56      0.59         9\n",
      "           1       0.20      0.25      0.22         4\n",
      "\n",
      "    accuracy                           0.46        13\n",
      "   macro avg       0.41      0.40      0.41        13\n",
      "weighted avg       0.49      0.46      0.48        13\n",
      "\n",
      "\n"
     ]
    }
   ],
   "source": [
    "for i,models in enumerate(models):\n",
    "    models.fit(x_train,y_train)\n",
    "    pred1=models.predict(x_test)\n",
    "    print(models)\n",
    "    print(accuracy_score(y_test,pred1))\n",
    "    print(classification_report(y_test,pred1))\n",
    "    print()"
   ]
  },
  {
   "cell_type": "code",
   "execution_count": 37,
   "id": "6d51ee4d-ec4f-462e-8357-162eb15f1ce2",
   "metadata": {},
   "outputs": [
    {
     "name": "stdout",
     "output_type": "stream",
     "text": [
      "LogisticRegression()\n",
      "0.7843137254901961\n",
      "              precision    recall  f1-score   support\n",
      "\n",
      "           0       0.76      0.79      0.78        24\n",
      "           1       0.81      0.78      0.79        27\n",
      "\n",
      "    accuracy                           0.78        51\n",
      "   macro avg       0.78      0.78      0.78        51\n",
      "weighted avg       0.79      0.78      0.78        51\n",
      "\n",
      "\n",
      "RandomForestClassifier(n_estimators=40)\n",
      "1.0\n",
      "              precision    recall  f1-score   support\n",
      "\n",
      "           0       1.00      1.00      1.00        24\n",
      "           1       1.00      1.00      1.00        27\n",
      "\n",
      "    accuracy                           1.00        51\n",
      "   macro avg       1.00      1.00      1.00        51\n",
      "weighted avg       1.00      1.00      1.00        51\n",
      "\n",
      "\n",
      "DecisionTreeClassifier()\n",
      "1.0\n",
      "              precision    recall  f1-score   support\n",
      "\n",
      "           0       1.00      1.00      1.00        24\n",
      "           1       1.00      1.00      1.00        27\n",
      "\n",
      "    accuracy                           1.00        51\n",
      "   macro avg       1.00      1.00      1.00        51\n",
      "weighted avg       1.00      1.00      1.00        51\n",
      "\n",
      "\n",
      "SVC(probability=True)\n",
      "0.7647058823529411\n",
      "              precision    recall  f1-score   support\n",
      "\n",
      "           0       0.73      0.79      0.76        24\n",
      "           1       0.80      0.74      0.77        27\n",
      "\n",
      "    accuracy                           0.76        51\n",
      "   macro avg       0.77      0.77      0.76        51\n",
      "weighted avg       0.77      0.76      0.76        51\n",
      "\n",
      "\n",
      "BaggingClassifier()\n",
      "1.0\n",
      "              precision    recall  f1-score   support\n",
      "\n",
      "           0       1.00      1.00      1.00        24\n",
      "           1       1.00      1.00      1.00        27\n",
      "\n",
      "    accuracy                           1.00        51\n",
      "   macro avg       1.00      1.00      1.00        51\n",
      "weighted avg       1.00      1.00      1.00        51\n",
      "\n",
      "\n",
      "AdaBoostClassifier()\n",
      "1.0\n",
      "              precision    recall  f1-score   support\n",
      "\n",
      "           0       1.00      1.00      1.00        24\n",
      "           1       1.00      1.00      1.00        27\n",
      "\n",
      "    accuracy                           1.00        51\n",
      "   macro avg       1.00      1.00      1.00        51\n",
      "weighted avg       1.00      1.00      1.00        51\n",
      "\n",
      "\n",
      "GradientBoostingClassifier()\n",
      "1.0\n",
      "              precision    recall  f1-score   support\n",
      "\n",
      "           0       1.00      1.00      1.00        24\n",
      "           1       1.00      1.00      1.00        27\n",
      "\n",
      "    accuracy                           1.00        51\n",
      "   macro avg       1.00      1.00      1.00        51\n",
      "weighted avg       1.00      1.00      1.00        51\n",
      "\n",
      "\n",
      "GaussianNB()\n",
      "0.8823529411764706\n",
      "              precision    recall  f1-score   support\n",
      "\n",
      "           0       0.82      0.96      0.88        24\n",
      "           1       0.96      0.81      0.88        27\n",
      "\n",
      "    accuracy                           0.88        51\n",
      "   macro avg       0.89      0.89      0.88        51\n",
      "weighted avg       0.89      0.88      0.88        51\n",
      "\n",
      "\n",
      "KNeighborsClassifier()\n",
      "0.7843137254901961\n",
      "              precision    recall  f1-score   support\n",
      "\n",
      "           0       0.74      0.83      0.78        24\n",
      "           1       0.83      0.74      0.78        27\n",
      "\n",
      "    accuracy                           0.78        51\n",
      "   macro avg       0.79      0.79      0.78        51\n",
      "weighted avg       0.79      0.78      0.78        51\n",
      "\n",
      "\n"
     ]
    }
   ],
   "source": [
    "for i,models in enumerate(models):\n",
    "    models.fit(x_train,y_train)\n",
    "    pred1=models.predict(x_train)\n",
    "    print(models)\n",
    "    print(accuracy_score(y_train,pred1))\n",
    "    print(classification_report(y_train,pred1))\n",
    "    print()"
   ]
  },
  {
   "cell_type": "markdown",
   "id": "0d8dfaa5-3773-4cee-92b4-bbb12cd9393c",
   "metadata": {},
   "source": [
    "##### Observation:after select k8best columns the accuracy score is not much improve but it  perform well and the model is good "
   ]
  },
  {
   "cell_type": "markdown",
   "id": "d1d284d5-bb43-42dc-a716-b453779e3e74",
   "metadata": {},
   "source": [
    "## Cross validation "
   ]
  },
  {
   "cell_type": "code",
   "execution_count": 53,
   "id": "12cb973d-b5b8-47e5-bcd6-33b5e4065e75",
   "metadata": {},
   "outputs": [],
   "source": [
    "from sklearn.model_selection import KFold,StratifiedKFold,LeaveOneOut,ShuffleSplit,cross_val_score\n"
   ]
  },
  {
   "cell_type": "code",
   "execution_count": 54,
   "id": "4d03f976-4fce-496d-a909-ffc3a3c3fda4",
   "metadata": {},
   "outputs": [
    {
     "name": "stdout",
     "output_type": "stream",
     "text": [
      "LogisticRegression()\n",
      "scores: [1. 1. 1. 1. 0. 0. 1. 1. 1. 1. 1. 1. 0. 1. 0. 1. 1. 0. 0. 1. 1. 1. 1. 0.\n",
      " 1. 1. 1. 0. 0. 1. 0. 1. 1. 1. 1. 1. 1. 0. 1. 1. 1. 1. 1. 0. 1. 0. 1. 1.\n",
      " 1. 1. 1. 1. 1. 1. 0. 1. 1. 1. 1. 1. 0. 1. 1. 1.]\n",
      "mean of socres: 0.765625\n",
      "\n",
      "RandomForestClassifier(n_estimators=40)\n",
      "scores: [1. 1. 1. 1. 0. 0. 0. 1. 1. 1. 1. 1. 0. 1. 1. 1. 1. 1. 0. 1. 1. 1. 1. 1.\n",
      " 1. 1. 1. 0. 1. 1. 0. 1. 1. 0. 1. 1. 1. 1. 1. 1. 1. 1. 1. 0. 1. 0. 1. 1.\n",
      " 1. 1. 1. 1. 1. 1. 0. 1. 1. 1. 1. 1. 1. 1. 1. 1.]\n",
      "mean of socres: 0.828125\n",
      "\n",
      "DecisionTreeClassifier()\n",
      "scores: [1. 1. 1. 1. 0. 0. 0. 0. 1. 1. 1. 1. 0. 1. 1. 1. 0. 0. 1. 1. 1. 1. 1. 1.\n",
      " 1. 1. 1. 0. 1. 0. 0. 1. 1. 0. 1. 0. 1. 1. 1. 1. 0. 1. 1. 1. 1. 1. 1. 1.\n",
      " 1. 1. 0. 1. 1. 1. 1. 1. 1. 0. 1. 1. 1. 1. 1. 1.]\n",
      "mean of socres: 0.765625\n",
      "\n",
      "SVC(probability=True)\n",
      "scores: [1. 1. 1. 1. 1. 1. 0. 1. 1. 1. 1. 1. 0. 0. 0. 1. 1. 1. 1. 1. 1. 1. 1. 0.\n",
      " 0. 0. 0. 0. 0. 1. 0. 1. 1. 0. 1. 1. 1. 1. 1. 0. 1. 1. 1. 1. 1. 1. 1. 1.\n",
      " 1. 1. 0. 1. 1. 1. 0. 1. 0. 1. 1. 1. 0. 0. 1. 1.]\n",
      "mean of socres: 0.71875\n",
      "\n",
      "BaggingClassifier()\n",
      "scores: [1. 1. 1. 1. 0. 0. 0. 1. 1. 0. 1. 1. 0. 1. 1. 1. 1. 1. 1. 1. 1. 1. 1. 1.\n",
      " 1. 1. 1. 0. 1. 1. 0. 1. 1. 1. 1. 0. 1. 1. 1. 1. 0. 1. 1. 0. 1. 1. 1. 1.\n",
      " 1. 1. 1. 1. 1. 1. 1. 1. 1. 1. 1. 1. 1. 1. 1. 0.]\n",
      "mean of socres: 0.828125\n",
      "\n",
      "AdaBoostClassifier()\n",
      "scores: [1. 1. 0. 1. 0. 0. 1. 1. 1. 0. 1. 1. 1. 1. 0. 1. 1. 1. 1. 1. 1. 1. 1. 1.\n",
      " 1. 1. 1. 1. 1. 1. 1. 1. 1. 1. 1. 0. 1. 1. 1. 0. 1. 1. 1. 0. 1. 0. 0. 1.\n",
      " 1. 1. 0. 1. 1. 1. 0. 1. 1. 1. 0. 1. 1. 1. 1. 0.]\n",
      "mean of socres: 0.78125\n",
      "\n",
      "GradientBoostingClassifier()\n",
      "scores: [1. 1. 1. 1. 0. 0. 0. 1. 1. 1. 1. 1. 0. 1. 1. 1. 1. 1. 1. 1. 1. 1. 1. 1.\n",
      " 1. 1. 1. 0. 1. 1. 1. 1. 1. 0. 1. 0. 1. 1. 1. 1. 0. 1. 0. 0. 1. 1. 1. 1.\n",
      " 1. 1. 1. 1. 1. 1. 1. 1. 1. 1. 1. 1. 1. 1. 1. 0.]\n",
      "mean of socres: 0.828125\n",
      "\n",
      "GaussianNB()\n",
      "scores: [1. 1. 0. 1. 0. 0. 1. 1. 1. 1. 1. 1. 0. 1. 1. 1. 1. 1. 0. 1. 1. 1. 1. 1.\n",
      " 0. 1. 1. 0. 1. 1. 0. 1. 1. 0. 1. 1. 1. 1. 1. 1. 1. 1. 1. 0. 1. 1. 1. 1.\n",
      " 1. 1. 1. 1. 1. 1. 0. 1. 1. 1. 1. 1. 1. 1. 1. 0.]\n",
      "mean of socres: 0.8125\n",
      "\n",
      "KNeighborsClassifier()\n",
      "scores: [0. 1. 0. 1. 0. 1. 0. 1. 0. 0. 1. 1. 0. 0. 0. 0. 1. 1. 1. 1. 1. 1. 1. 0.\n",
      " 0. 1. 1. 0. 0. 1. 0. 1. 1. 0. 1. 1. 1. 0. 1. 0. 1. 1. 1. 1. 1. 1. 1. 1.\n",
      " 1. 1. 0. 1. 1. 1. 0. 1. 0. 1. 0. 1. 0. 0. 1. 1.]\n",
      "mean of socres: 0.625\n",
      "\n"
     ]
    }
   ],
   "source": [
    "for i,j in enumerate(models):\n",
    "    scores=cross_val_score(estimator=j,X=x_select,y=y,cv=LeaveOneOut())\n",
    "    print(j)\n",
    "    print('scores:',scores)\n",
    "    print('mean of socres:',scores.mean())\n",
    "    print()\n"
   ]
  },
  {
   "cell_type": "markdown",
   "id": "3d87f406-1b0c-4e58-8c0e-2b066051650f",
   "metadata": {},
   "source": [
    "##### After cross validation the model is not much improved  "
   ]
  },
  {
   "cell_type": "code",
   "execution_count": 61,
   "id": "33c0834f-5fb8-414c-b799-830730685ff0",
   "metadata": {},
   "outputs": [
    {
     "data": {
      "text/html": [
       "<div>\n",
       "<style scoped>\n",
       "    .dataframe tbody tr th:only-of-type {\n",
       "        vertical-align: middle;\n",
       "    }\n",
       "\n",
       "    .dataframe tbody tr th {\n",
       "        vertical-align: top;\n",
       "    }\n",
       "\n",
       "    .dataframe thead th {\n",
       "        text-align: right;\n",
       "    }\n",
       "</style>\n",
       "<table border=\"1\" class=\"dataframe\">\n",
       "  <thead>\n",
       "    <tr style=\"text-align: right;\">\n",
       "      <th></th>\n",
       "      <th>PPE_a</th>\n",
       "      <th>PVI_a</th>\n",
       "      <th>Ha(7)_{rel}</th>\n",
       "      <th>HNR_i</th>\n",
       "      <th>CCi(2)</th>\n",
       "      <th>CCi(6)</th>\n",
       "      <th>d_1</th>\n",
       "      <th>F2_{conv}</th>\n",
       "    </tr>\n",
       "  </thead>\n",
       "  <tbody>\n",
       "    <tr>\n",
       "      <th>PPE_a</th>\n",
       "      <td>1.000000</td>\n",
       "      <td>0.737692</td>\n",
       "      <td>-0.174568</td>\n",
       "      <td>-0.496916</td>\n",
       "      <td>0.000599</td>\n",
       "      <td>0.429114</td>\n",
       "      <td>-0.189690</td>\n",
       "      <td>-0.068347</td>\n",
       "    </tr>\n",
       "    <tr>\n",
       "      <th>PVI_a</th>\n",
       "      <td>0.737692</td>\n",
       "      <td>1.000000</td>\n",
       "      <td>-0.173399</td>\n",
       "      <td>-0.457349</td>\n",
       "      <td>-0.207569</td>\n",
       "      <td>0.449964</td>\n",
       "      <td>-0.261770</td>\n",
       "      <td>-0.209879</td>\n",
       "    </tr>\n",
       "    <tr>\n",
       "      <th>Ha(7)_{rel}</th>\n",
       "      <td>-0.174568</td>\n",
       "      <td>-0.173399</td>\n",
       "      <td>1.000000</td>\n",
       "      <td>0.098513</td>\n",
       "      <td>0.398123</td>\n",
       "      <td>-0.059114</td>\n",
       "      <td>0.359289</td>\n",
       "      <td>0.285354</td>\n",
       "    </tr>\n",
       "    <tr>\n",
       "      <th>HNR_i</th>\n",
       "      <td>-0.496916</td>\n",
       "      <td>-0.457349</td>\n",
       "      <td>0.098513</td>\n",
       "      <td>1.000000</td>\n",
       "      <td>0.238966</td>\n",
       "      <td>-0.389983</td>\n",
       "      <td>0.345107</td>\n",
       "      <td>0.294596</td>\n",
       "    </tr>\n",
       "    <tr>\n",
       "      <th>CCi(2)</th>\n",
       "      <td>0.000599</td>\n",
       "      <td>-0.207569</td>\n",
       "      <td>0.398123</td>\n",
       "      <td>0.238966</td>\n",
       "      <td>1.000000</td>\n",
       "      <td>-0.197918</td>\n",
       "      <td>0.541387</td>\n",
       "      <td>0.564874</td>\n",
       "    </tr>\n",
       "    <tr>\n",
       "      <th>CCi(6)</th>\n",
       "      <td>0.429114</td>\n",
       "      <td>0.449964</td>\n",
       "      <td>-0.059114</td>\n",
       "      <td>-0.389983</td>\n",
       "      <td>-0.197918</td>\n",
       "      <td>1.000000</td>\n",
       "      <td>-0.559611</td>\n",
       "      <td>-0.372608</td>\n",
       "    </tr>\n",
       "    <tr>\n",
       "      <th>d_1</th>\n",
       "      <td>-0.189690</td>\n",
       "      <td>-0.261770</td>\n",
       "      <td>0.359289</td>\n",
       "      <td>0.345107</td>\n",
       "      <td>0.541387</td>\n",
       "      <td>-0.559611</td>\n",
       "      <td>1.000000</td>\n",
       "      <td>0.498940</td>\n",
       "    </tr>\n",
       "    <tr>\n",
       "      <th>F2_{conv}</th>\n",
       "      <td>-0.068347</td>\n",
       "      <td>-0.209879</td>\n",
       "      <td>0.285354</td>\n",
       "      <td>0.294596</td>\n",
       "      <td>0.564874</td>\n",
       "      <td>-0.372608</td>\n",
       "      <td>0.498940</td>\n",
       "      <td>1.000000</td>\n",
       "    </tr>\n",
       "  </tbody>\n",
       "</table>\n",
       "</div>"
      ],
      "text/plain": [
       "                PPE_a     PVI_a  Ha(7)_{rel}     HNR_i    CCi(2)    CCi(6)  \\\n",
       "PPE_a        1.000000  0.737692    -0.174568 -0.496916  0.000599  0.429114   \n",
       "PVI_a        0.737692  1.000000    -0.173399 -0.457349 -0.207569  0.449964   \n",
       "Ha(7)_{rel} -0.174568 -0.173399     1.000000  0.098513  0.398123 -0.059114   \n",
       "HNR_i       -0.496916 -0.457349     0.098513  1.000000  0.238966 -0.389983   \n",
       "CCi(2)       0.000599 -0.207569     0.398123  0.238966  1.000000 -0.197918   \n",
       "CCi(6)       0.429114  0.449964    -0.059114 -0.389983 -0.197918  1.000000   \n",
       "d_1         -0.189690 -0.261770     0.359289  0.345107  0.541387 -0.559611   \n",
       "F2_{conv}   -0.068347 -0.209879     0.285354  0.294596  0.564874 -0.372608   \n",
       "\n",
       "                  d_1  F2_{conv}  \n",
       "PPE_a       -0.189690  -0.068347  \n",
       "PVI_a       -0.261770  -0.209879  \n",
       "Ha(7)_{rel}  0.359289   0.285354  \n",
       "HNR_i        0.345107   0.294596  \n",
       "CCi(2)       0.541387   0.564874  \n",
       "CCi(6)      -0.559611  -0.372608  \n",
       "d_1          1.000000   0.498940  \n",
       "F2_{conv}    0.498940   1.000000  "
      ]
     },
     "execution_count": 61,
     "metadata": {},
     "output_type": "execute_result"
    }
   ],
   "source": [
    "x_select.corr()"
   ]
  },
  {
   "cell_type": "code",
   "execution_count": 62,
   "id": "ed7a5bc6-5248-4686-b5c2-f46a7f6fa318",
   "metadata": {},
   "outputs": [
    {
     "data": {
      "text/plain": [
       "Text(0.5, 1.0, 'Correlation of x_select columns')"
      ]
     },
     "execution_count": 62,
     "metadata": {},
     "output_type": "execute_result"
    },
    {
     "data": {
      "image/png": "[encoded data removed]",
      "text/plain": [
       "<Figure size 1000x800 with 2 Axes>"
      ]
     },
     "metadata": {},
     "output_type": "display_data"
    }
   ],
   "source": [
    "plt.figure(figsize=(10,8))\n",
    "sns.heatmap(x_select.corr(),annot=True)\n",
    "plt.title('Correlation of x_select columns')"
   ]
  },
  {
   "cell_type": "markdown",
   "id": "891212b2-a8f7-41eb-aaa5-16d66b23d6a8",
   "metadata": {},
   "source": [
    "#### Observation:From the above visuals the high correlation between the PVI_A and PPE_A"
   ]
  },
  {
   "cell_type": "code",
   "execution_count": 63,
   "id": "6126bcc9-d162-4429-9c9a-d0f1911c5fb3",
   "metadata": {},
   "outputs": [
    {
     "data": {
      "text/plain": [
       "Text(0.5, 1.0, 'PPE_A VS PPVI_A')"
      ]
     },
     "execution_count": 63,
     "metadata": {},
     "output_type": "execute_result"
    },
    {
     "data": {
      "image/png": "[encoded data removed]",
      "text/plain": [
       "<Figure size 600x400 with 1 Axes>"
      ]
     },
     "metadata": {},
     "output_type": "display_data"
    }
   ],
   "source": [
    "plt.figure(figsize=(6,4))\n",
    "plt.scatter(data=x_select,x='PPE_a',y='PVI_a')\n",
    "plt.title('PPE_A VS PPVI_A')"
   ]
  },
  {
   "cell_type": "markdown",
   "id": "82c136dc-500a-4866-99ea-e3817c660f8a",
   "metadata": {},
   "source": [
    "##### The above graph ppe_a and pvi_a are both  are not strongly correlated and the outlier at top right corner it is much higher then the others"
   ]
  },
  {
   "cell_type": "markdown",
   "id": "12de333a-67a3-4a2c-8c55-664e329647da",
   "metadata": {},
   "source": [
    "## Hyperparameter tunning"
   ]
  },
  {
   "cell_type": "code",
   "execution_count": 56,
   "id": "6c27e641-6130-43e2-9c9b-5acbceb31804",
   "metadata": {},
   "outputs": [],
   "source": [
    "from sklearn.model_selection import GridSearchCV,RandomizedSearchCV"
   ]
  },
  {
   "cell_type": "code",
   "execution_count": 57,
   "id": "dd1e64d2-40bc-4191-8c9d-759948f24198",
   "metadata": {},
   "outputs": [],
   "source": [
    "model=RandomForestClassifier()"
   ]
  },
  {
   "cell_type": "code",
   "execution_count": 58,
   "id": "3233a3b4-7407-40a0-8a16-356337071eb3",
   "metadata": {},
   "outputs": [],
   "source": [
    "param_grid = {\n",
    "    'n_estimators': [50, 100, 150],         \n",
    "    'max_depth': [ 10, 20, 30],       \n",
    "    'min_samples_split': [2, 5, 10],     \n",
    "    'min_samples_leaf': [1, 2, 4]         \n",
    "}"
   ]
  },
  {
   "cell_type": "code",
   "execution_count": 60,
   "id": "5d24411e-ed8b-4d15-8d4e-70efc4713960",
   "metadata": {},
   "outputs": [
    {
     "name": "stdout",
     "output_type": "stream",
     "text": [
      "Fitting 5 folds for each of 81 candidates, totalling 405 fits\n",
      "0.8461538461538461\n"
     ]
    }
   ],
   "source": [
    "grid_search=GridSearchCV(estimator=model,param_grid=param_grid,n_jobs=-1,verbose=2,cv=5)\n",
    "grid_search.fit(x_train,y_train)\n",
    "pred=grid_search.predict(x_test)\n",
    "print(accuracy_score(y_test,pred))"
   ]
  },
  {
   "cell_type": "markdown",
   "id": "7d2d36a6-d0d1-4e1b-98dc-c90fad9ae49d",
   "metadata": {},
   "source": [
    "## Conclusion"
   ]
  },
  {
   "cell_type": "markdown",
   "id": "4a370c7c-d286-4064-8a3c-8896f5b777ae",
   "metadata": {},
   "source": [
    "##### The dataset is Amyotrophic Lateral Sclerosis (ALS). From this dataset, I created some visualizations.Based on the visuals, I found that it is not an imbalanced dataset, and the independent features show some separation from the target feature, Diagnosis.However, there is also significant overlap.After that, I built machine learning models and achieved good accuracy scores. The models are neither underfitting nor overfitting, which indicates that they perform well. Therefore, I consider this a good model with satisfactory performance."
   ]
  },
  {
   "cell_type": "code",
   "execution_count": null,
   "id": "9723cd66-4ae9-4271-90ae-96ca258a4b84",
   "metadata": {},
   "outputs": [],
   "source": []
  }
 ],
 "metadata": {
  "kernelspec": {
   "display_name": "Python 3 (ipykernel)",
   "language": "python",
   "name": "python3"
  },
  "language_info": {
   "codemirror_mode": {
    "name": "ipython",
    "version": 3
   },
   "file_extension": ".py",
   "mimetype": "text/x-python",
   "name": "python",
   "nbconvert_exporter": "python",
   "pygments_lexer": "ipython3",
   "version": "3.12.4"
  }
 },
 "nbformat": 4,
 "nbformat_minor": 5
}
